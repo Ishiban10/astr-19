{
 "cells": [
  {
   "cell_type": "code",
   "execution_count": 4,
   "id": "35bc6720",
   "metadata": {},
   "outputs": [],
   "source": [
    "import numpy as np"
   ]
  },
  {
   "cell_type": "markdown",
   "id": "996b7b33",
   "metadata": {},
   "source": [
    "This function returns the output of sin(x)"
   ]
  },
  {
   "cell_type": "code",
   "execution_count": 5,
   "id": "5626ddee",
   "metadata": {
    "scrolled": true
   },
   "outputs": [],
   "source": [
    "def sin_x(y):\n",
    "    return np.sin(y)"
   ]
  },
  {
   "cell_type": "markdown",
   "id": "10a6d11d",
   "metadata": {},
   "source": [
    "This function returns the output of cos(x)"
   ]
  },
  {
   "cell_type": "code",
   "execution_count": 6,
   "id": "aac3ea04",
   "metadata": {},
   "outputs": [],
   "source": [
    "def cos_x(y):\n",
    "    return np.cos(y)"
   ]
  },
  {
   "cell_type": "markdown",
   "id": "81e45654",
   "metadata": {},
   "source": [
    "This function tabulates the sin(x) and cos(x) functions"
   ]
  },
  {
   "cell_type": "code",
   "execution_count": 43,
   "id": "4c2fb3ac",
   "metadata": {},
   "outputs": [],
   "source": [
    "def sincos_tab():\n",
    "    x = np.linspace(0, 2 * np.pi, 1000)\n",
    "    sin_x_tab = []\n",
    "    cos_x_tab = []\n",
    "\n",
    "    for item in x:\n",
    "        sin_x_tab.append([item, sin_x(item)])\n",
    "        \n",
    "\n",
    "    for item in x:\n",
    "        cos_x_tab.append([item, cos_x(item)])\n",
    "    \n",
    "    return sin_x_tab, cos_x_tab\n",
    "\n"
   ]
  },
  {
   "cell_type": "markdown",
   "id": "ad47f7c5",
   "metadata": {},
   "source": [
    "This function prints out the first 10 values of x, sin(x), and cos(x) in columns"
   ]
  },
  {
   "cell_type": "code",
   "execution_count": 41,
   "id": "aaad91d6",
   "metadata": {},
   "outputs": [],
   "source": [
    "def columns():\n",
    "    x = np.linspace(0, 2 * np.pi, 1000)\n",
    "    for i in x[0:9]:\n",
    "        if i == 0:\n",
    "            print(f\"{round(i, 5)}         {round(sin_x(i), 5)}         {round(cos_x(i), 5)}\")\n",
    "        else: \n",
    "            print(f\"{round(i, 5)}     {round(sin_x(i), 5)}     {round(cos_x(i), 5)}\")\n",
    "    "
   ]
  },
  {
   "cell_type": "code",
   "execution_count": 42,
   "id": "71d0854e",
   "metadata": {},
   "outputs": [
    {
     "name": "stdout",
     "output_type": "stream",
     "text": [
      "0.0         0.0         1.0\n",
      "0.00629     0.00629     0.99998\n",
      "0.01258     0.01258     0.99992\n",
      "0.01887     0.01887     0.99982\n",
      "0.02516     0.02516     0.99968\n",
      "0.03145     0.03144     0.99951\n",
      "0.03774     0.03773     0.99929\n",
      "0.04403     0.04401     0.99903\n",
      "0.05032     0.05029     0.99873\n"
     ]
    }
   ],
   "source": [
    "columns()"
   ]
  }
 ],
 "metadata": {
  "kernelspec": {
   "display_name": "Python 3 (ipykernel)",
   "language": "python",
   "name": "python3"
  },
  "language_info": {
   "codemirror_mode": {
    "name": "ipython",
    "version": 3
   },
   "file_extension": ".py",
   "mimetype": "text/x-python",
   "name": "python",
   "nbconvert_exporter": "python",
   "pygments_lexer": "ipython3",
   "version": "3.9.1"
  }
 },
 "nbformat": 4,
 "nbformat_minor": 5
}
