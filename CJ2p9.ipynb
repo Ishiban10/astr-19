{
 "cells": [
  {
   "cell_type": "code",
   "execution_count": 2,
   "id": "258979d2",
   "metadata": {},
   "outputs": [],
   "source": [
    "import numpy as np\n",
    "import matplotlib.pyplot as plt"
   ]
  },
  {
   "cell_type": "markdown",
   "id": "8bf53b99",
   "metadata": {},
   "source": [
    "Generates the random uniform distribution of numbers between 0 and 1"
   ]
  },
  {
   "cell_type": "code",
   "execution_count": 20,
   "id": "fb74378d",
   "metadata": {},
   "outputs": [],
   "source": [
    "listRand = np.random.uniform(0.0, 1.0, 1000)\n"
   ]
  },
  {
   "cell_type": "markdown",
   "id": "42129162",
   "metadata": {},
   "source": [
    "Code to plot the histogram"
   ]
  },
  {
   "cell_type": "code",
   "execution_count": 28,
   "id": "4a97b918",
   "metadata": {},
   "outputs": [
    {
     "data": {
      "image/png": "[encoded data removed]",
      "text/plain": [
       "<Figure size 432x288 with 1 Axes>"
      ]
     },
     "metadata": {
      "needs_background": "light"
     },
     "output_type": "display_data"
    }
   ],
   "source": [
    "plt.hist(listRand, 100, rwidth=0.6)\n",
    "plt.xlabel(\"Random Number Value\")\n",
    "plt.ylabel(\"Amount\")\n",
    "plt.savefig(\"CJ2p9Plot.pdf\")"
   ]
  }
 ],
 "metadata": {
  "kernelspec": {
   "display_name": "Python 3 (ipykernel)",
   "language": "python",
   "name": "python3"
  },
  "language_info": {
   "codemirror_mode": {
    "name": "ipython",
    "version": 3
   },
   "file_extension": ".py",
   "mimetype": "text/x-python",
   "name": "python",
   "nbconvert_exporter": "python",
   "pygments_lexer": "ipython3",
   "version": "3.9.1"
  }
 },
 "nbformat": 4,
 "nbformat_minor": 5
}
