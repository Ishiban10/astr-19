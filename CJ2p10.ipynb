{
 "cells": [
  {
   "cell_type": "code",
   "execution_count": 1,
   "id": "42bdd5f6",
   "metadata": {},
   "outputs": [],
   "source": [
    "import numpy as np\n",
    "import matplotlib.pyplot as plt"
   ]
  },
  {
   "cell_type": "markdown",
   "id": "d64689f0",
   "metadata": {},
   "source": [
    "Cell to generate 1000 random integers between 0 and 100 "
   ]
  },
  {
   "cell_type": "code",
   "execution_count": 2,
   "id": "1670f95f",
   "metadata": {},
   "outputs": [],
   "source": [
    "listRand = np.random.randint(0, 100, 1000)"
   ]
  },
  {
   "cell_type": "markdown",
   "id": "62b4dd3f",
   "metadata": {},
   "source": [
    "Cell to generate the histogram with 100 bars"
   ]
  },
  {
   "cell_type": "code",
   "execution_count": 5,
   "id": "aa84c2b3",
   "metadata": {},
   "outputs": [
    {
     "data": {
      "image/png": "[encoded data removed]",
      "text/plain": [
       "<Figure size 432x288 with 1 Axes>"
      ]
     },
     "metadata": {
      "needs_background": "light"
     },
     "output_type": "display_data"
    }
   ],
   "source": [
    "plt.hist(listRand, 100, rwidth=0.6)\n",
    "plt.xlabel(\"Random Number Value\")\n",
    "plt.ylabel(\"Amount\")\n",
    "plt.savefig(\"CJ2p10Plot.pdf\")"
   ]
  },
  {
   "cell_type": "code",
   "execution_count": null,
   "id": "fd4e6a7f",
   "metadata": {},
   "outputs": [],
   "source": []
  }
 ],
 "metadata": {
  "kernelspec": {
   "display_name": "Python 3 (ipykernel)",
   "language": "python",
   "name": "python3"
  },
  "language_info": {
   "codemirror_mode": {
    "name": "ipython",
    "version": 3
   },
   "file_extension": ".py",
   "mimetype": "text/x-python",
   "name": "python",
   "nbconvert_exporter": "python",
   "pygments_lexer": "ipython3",
   "version": "3.9.1"
  }
 },
 "nbformat": 4,
 "nbformat_minor": 5
}
